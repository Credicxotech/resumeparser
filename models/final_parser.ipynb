{
 "cells": [
  {
   "cell_type": "code",
   "execution_count": 18,
   "metadata": {},
   "outputs": [],
   "source": [
    "import spacy\n",
    "import random\n",
    "import spacy.cli"
   ]
  },
  {
   "cell_type": "code",
   "execution_count": 21,
   "metadata": {},
   "outputs": [],
   "source": [
    "nlp2 = spacy.load(r\"C:\\Users\\Asus\\OneDrive\\Desktop\\Practice Selenium\\OCR and NER\\\")\n",
    "from ipynb.fs.full.finalOCR import sending_text \n",
    "\n",
    "data = sending_text()\n",
    "\n"
   ]
  },
  {
   "cell_type": "code",
   "execution_count": 11,
   "metadata": {},
   "outputs": [],
   "source": [
    "Name = []\n",
    "Work = []\n",
    "Skills = []\n",
    "Education = []\n",
    "Projects = []\n",
    "Certificates = []\n",
    "Achievements = []\n",
    "Projects = []\n",
    "Other = []    \n",
    "   \n",
    "\n",
    "\n",
    "def resume_parsed(data):\n",
    "    doc2 = nlp2(data)\n",
    "    \n",
    "    for ent in doc2.ents:\n",
    "        if ent.label_ == 'Name':\n",
    "            Name.append(ent.text_with_ws)\n",
    "    #print(\"NAME: \",Name )        \n",
    "\n",
    "    for ent in doc2.ents:\n",
    "        if ent.label_ == 'Work Exp':\n",
    "            Work.append(ent.text_with_ws)\n",
    "    #print(\"WORK EXPERIENCE: \",Work)        \n",
    "\n",
    "    for ent in doc2.ents:\n",
    "        if ent.label_ == 'Education':\n",
    "            Education.append(ent.text_with_ws)\n",
    "    #print(\"EDUCATION: \",Education)        \n",
    "\n",
    "    for ent in doc2.ents:\n",
    "        if ent.label_ == 'Projects':\n",
    "            Projects.append(ent.text_with_ws)\n",
    "    #print(\"PROJECTS: \",Projects)        \n",
    "\n",
    "    for ent in doc2.ents:\n",
    "        if ent.label_ == 'Skills':\n",
    "            Skills.append(ent.text_with_ws)\n",
    "    #print(\"SKILLS: \",Skills)        \n",
    "\n",
    "    for ent in doc2.ents:\n",
    "        if ent.label_ == 'Certificates':\n",
    "            Certificates.append(ent.text_with_ws)\n",
    "    #print(\"CERTIFICATES: \",Certificates)        \n",
    "\n",
    "    for ent in doc2.ents:\n",
    "        if ent.label_ == 'Achievements':\n",
    "            Achievements.append(ent.text_with_ws)\n",
    "    #print(\"ACHIEVEMENTS: \",Achievements)        \n",
    "\n",
    "    for ent in doc2.ents:\n",
    "        if ent.label_ == 'Other Deatils':\n",
    "            Other.append(ent.text_with_ws)\n",
    "    #print(\"OTHER DETAILS: \",Other)        \n",
    "\n",
    "\n",
    "        \n",
    "    import re\n",
    "    phone_pattern = re.compile(r'[0-9]{10}')\n",
    "    phone_matches = phone_pattern.findall(data)\n",
    "    #print(\"CONTACT: \",phone_matches)\n",
    "\n",
    "    email_pattern = re.compile(r'[a-zA-Z0-9-\\.]+@[a-zA-z-0-9-\\.]*\\.[a-z]*')\n",
    "    email_matches = email_pattern.findall(data)\n",
    "    #print(\"EMAIL: \",email_matches)\n",
    "\n",
    "    status = re.compile(r'\\bSingle\\b | \\bMarried\\b | \\bUnmarried\\b | \\bDivorced\\b ', flags=re.I | re.X)\n",
    "    status =  status.findall(data)\n",
    "    #print(\"MARITAL STATUS: \",status)\n",
    "\n",
    "    nationality = re.compile(r'\\bIndia\\b | \\bIndian\\b | \\bINR\\b | \\bNon-Indian\\b ', flags=re.I | re.X)\n",
    "    nationality = nationality.findall(data)\n",
    "    #print(\"NATIONALITY: \",nationality)\n",
    "\n",
    "    sex = re.compile(r'\\bMale\\b | \\bFemale\\b | \\bLGBT\\b | \\bLGBTQ\\b | \\bTransGender | \\bTrans Gender\\b | \\bTrans-Gender\\b | \\bGay\\b | \\bLesbian\\b', flags=re.I | re.X)\n",
    "    sex = sex.findall(data)\n",
    "    #print(\"GENDER: \",sex)\n",
    "\n",
    "    languages = re.compile(r'\\bHindi\\b | \\bEnglish\\b | \\bTamil\\b | \\bGujrati\\b | \\bTelugu\\b | \\bMalayalam\\b | \\bKannad\\b | \\bBengali\\b | \\bMarathi\\b | \\bPunjabi\\b | \\bKashmiri\\b | \\bBihari\\b | \\bUrdu\\b | \\bArabic\\b | \\bAssami\\b | \\bManipuri\\b | \\bGoan\\b | \\bNepali\\b', flags=re.I | re.X)\n",
    "    languages= languages.findall(data)\n",
    "    #print(\"LANGUAGES KNOWN: \",languages)\n",
    "\n",
    "\n",
    "    Final_result = {\n",
    "        \"NAME: \":Name,\n",
    "        \"CONTACT: \":phone_matches,\n",
    "        \"EMAIL: \":email_matches,\n",
    "        \"WORK EXPERIENCE: \":Work,\n",
    "        \"EDUCATION: \":Education,\n",
    "        \"PROJECTS: \":Projects,\n",
    "        \"SKILLS: \":Skills,\n",
    "        \"CERTIFICATES: \":Certificates,\n",
    "        \"ACHIEVEMENTS: \":Achievements,\n",
    "        \"LANGUAGES KNOWN: \":languages,\n",
    "        \"MARITAL STATUS: \":status,\n",
    "        \"NATIONALITY: \":nationality,\n",
    "        \"GENDER: \":sex,\n",
    "        \"LANGUAGES KNOWN: \":languages,\n",
    "        \"OTHER DETAILS: \":Other\n",
    "    } \n",
    "\n",
    "    return Final_result\n",
    "\n",
    "\n"
   ]
  },
  {
   "cell_type": "code",
   "execution_count": 22,
   "metadata": {},
   "outputs": [
    {
     "name": "stdout",
     "output_type": "stream",
     "text": [
      "{'NAME: ': [], 'CONTACT: ': ['7021717010', '7021717010'], 'EMAIL: ': [], 'WORK EXPERIENCE: ': [], 'EDUCATION: ': [], 'PROJECTS: ': [], 'SKILLS: ': [], 'CERTIFICATES: ': [], 'ACHIEVEMENTS: ': [], 'LANGUAGES KNOWN: ': ['Hindi'], 'MARITAL STATUS: ': [], 'NATIONALITY: ': [], 'GENDER: ': [], 'OTHER DETAILS: ': ['Logout, Contact form, and also use authenticatesystem:STRENGTHSGood communication and interpersonal skillsFocused and confident with positive attitudeSelf motivatedHOBBIESListening Music.Playing Football:PERSONAL DETAILS:NameRupesh ThakurGenderMaleDate ', 'Logout, Contact form, and also use authenticatesystem:STRENGTHSGood communication and interpersonal skillsFocused and confident with positive attitudeSelf motivatedHOBBIESListening Music.Playing Football:PERSONAL DETAILS:NameRupesh ThakurGenderMaleDate ']}\n"
     ]
    }
   ],
   "source": [
    "result = resume_parsed(data)\n",
    "print(result)"
   ]
  },
  {
   "cell_type": "code",
   "execution_count": null,
   "metadata": {},
   "outputs": [],
   "source": []
  },
  {
   "cell_type": "code",
   "execution_count": null,
   "metadata": {},
   "outputs": [],
   "source": []
  }
 ],
 "metadata": {
  "interpreter": {
   "hash": "b5843a13e7131a14c3c0e364f0390d6592a995e3082c3f83420ac4385eeb2370"
  },
  "kernelspec": {
   "display_name": "Python 3.9.2 64-bit",
   "language": "python",
   "name": "python3"
  },
  "language_info": {
   "codemirror_mode": {
    "name": "ipython",
    "version": 3
   },
   "file_extension": ".py",
   "mimetype": "text/x-python",
   "name": "python",
   "nbconvert_exporter": "python",
   "pygments_lexer": "ipython3",
   "version": "3.9.2"
  },
  "orig_nbformat": 4
 },
 "nbformat": 4,
 "nbformat_minor": 2
}
